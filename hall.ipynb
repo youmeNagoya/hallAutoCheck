{
 "cells": [
  {
   "cell_type": "code",
   "execution_count": 44,
   "metadata": {},
   "outputs": [
    {
     "name": "stdout",
     "output_type": "stream",
     "text": [
      "<table class=\"STTL\" width=\"99%\" border=\"1\" cellspacing=\"0\" cellpadding=\"0\"><tbody><tr class=\"WTBL\"><td nowrap=\"\" width=\"20%\" rowspan=\"2\" class=\"GATR\">施設</td><td nowrap=\"\" width=\"5%\" rowspan=\"2\" class=\"GATR\">定員</td><td nowrap=\"\" width=\"5%\" rowspan=\"2\" class=\"GATR\">時間</td><td nowrap=\"\" width=\"10%\" align=\"center\" class=\"HOLTXT\">日</td><td nowrap=\"\" width=\"10%\" align=\"center\" class=\"NATR\">月</td><td nowrap=\"\" width=\"10%\" align=\"center\" class=\"NATR\">火</td><td nowrap=\"\" width=\"10%\" align=\"center\" class=\"NATR\">水</td><td nowrap=\"\" width=\"10%\" align=\"center\" class=\"NATR\">木</td><td nowrap=\"\" width=\"10%\" align=\"center\" class=\"NATR\">金</td><td nowrap=\"\" width=\"10%\" align=\"center\" class=\"SATTXT\">土</td></tr><tr class=\"GTBL\"><td nowrap=\"\" width=\"8%\" align=\"center\" class=\"HOLTXT\">1</td><td nowrap=\"\" width=\"8%\" align=\"center\" class=\"LKATR\">2</td><td nowrap=\"\" width=\"8%\" align=\"center\" class=\"LKATR\">3</td><td nowrap=\"\" width=\"8%\" align=\"center\" class=\"LKATR\">4</td><td nowrap=\"\" width=\"8%\" align=\"center\" class=\"LKATR\">5</td><td nowrap=\"\" width=\"8%\" align=\"center\" class=\"LKATR\">6</td><td nowrap=\"\" width=\"8%\" align=\"center\" class=\"SATTXT\">7</td></tr><tr class=\"WTBL\"><td class=\"NATR\" rowspan=\"3\">大田区民ﾎｰﾙ･ｱﾌﾟﾘｺ<br>大ホール</td><td width=\"5%\" class=\"NATR\" align=\"center\" rowspan=\"3\">1477人</td><td nowrap=\"\" class=\"NATR\" height=\"40\">0900-1200</td><td nowrap=\"\" align=\"center\" class=\"HOLTXT\">予約済 </td><td nowrap=\"\" align=\"center\" class=\"NATR\">保守点検</td><td nowrap=\"\" align=\"center\" class=\"NATR\">保守点検</td><td nowrap=\"\" align=\"center\" class=\"NATR\">保守点検</td><td nowrap=\"\" align=\"center\" class=\"NATR\"></td><td nowrap=\"\" align=\"center\" class=\"NATR\"></td><td nowrap=\"\" align=\"center\" class=\"SATTXT\">予約済 </td></tr><tr><td nowrap=\"\" class=\"NATR\" height=\"40\">1300-1700</td><td nowrap=\"\" align=\"center\" class=\"HOLTXT\">予約済 </td><td nowrap=\"\" align=\"center\" class=\"NATR\">保守点検</td><td nowrap=\"\" align=\"center\" class=\"NATR\">保守点検</td><td nowrap=\"\" align=\"center\" class=\"NATR\">保守点検</td><td nowrap=\"\" align=\"center\" class=\"NATR\"></td><td nowrap=\"\" align=\"center\" class=\"NATR\"></td><td nowrap=\"\" align=\"center\" class=\"SATTXT\">予約済 </td></tr><tr><td nowrap=\"\" class=\"NATR\" height=\"40\">1800-2200</td><td nowrap=\"\" align=\"center\" class=\"HOLTXT\">予約済 </td><td nowrap=\"\" align=\"center\" class=\"NATR\">保守点検</td><td nowrap=\"\" align=\"center\" class=\"NATR\">保守点検</td><td nowrap=\"\" align=\"center\" class=\"NATR\">保守点検</td><td nowrap=\"\" align=\"center\" class=\"NATR\"></td><td nowrap=\"\" align=\"center\" class=\"NATR\"></td><td nowrap=\"\" align=\"center\" class=\"SATTXT\">予約済 </td></tr></tbody></table><br><br><table class=\"STTL\" width=\"99%\" border=\"1\" cellspacing=\"0\" cellpadding=\"0\"><tbody><tr class=\"WTBL\"><td nowrap=\"\" width=\"20%\" rowspan=\"2\" class=\"GATR\">施設</td><td nowrap=\"\" width=\"5%\" rowspan=\"2\" class=\"GATR\">定員</td><td nowrap=\"\" width=\"5%\" rowspan=\"2\" class=\"GATR\">時間</td><td nowrap=\"\" width=\"10%\" align=\"center\" class=\"HOLTXT\">日</td><td nowrap=\"\" width=\"10%\" align=\"center\" class=\"NATR\">月</td><td nowrap=\"\" width=\"10%\" align=\"center\" class=\"NATR\">火</td><td nowrap=\"\" width=\"10%\" align=\"center\" class=\"NATR\">水</td><td nowrap=\"\" width=\"10%\" align=\"center\" class=\"NATR\">木</td><td nowrap=\"\" width=\"10%\" align=\"center\" class=\"NATR\">金</td><td nowrap=\"\" width=\"10%\" align=\"center\" class=\"SATTXT\">土</td></tr><tr class=\"GTBL\"><td nowrap=\"\" width=\"8%\" align=\"center\" class=\"HOLTXT\">8</td><td nowrap=\"\" width=\"8%\" align=\"center\" class=\"LKATR\">9</td><td nowrap=\"\" width=\"8%\" align=\"center\" class=\"LKATR\">10</td><td nowrap=\"\" width=\"8%\" align=\"center\" class=\"LKATR\">11</td><td nowrap=\"\" width=\"8%\" align=\"center\" class=\"LKATR\">12</td><td nowrap=\"\" width=\"8%\" align=\"center\" class=\"LKATR\">13</td><td nowrap=\"\" width=\"8%\" align=\"center\" class=\"SATTXT\">14</td></tr><tr class=\"WTBL\"><td class=\"NATR\" rowspan=\"3\">大田区民ﾎｰﾙ･ｱﾌﾟﾘｺ<br>大ホール</td><td width=\"5%\" class=\"NATR\" align=\"center\" rowspan=\"3\">1477人</td><td nowrap=\"\" class=\"NATR\" height=\"40\">0900-1200</td><td nowrap=\"\" align=\"center\" class=\"HOLTXT\"></td><td nowrap=\"\" align=\"center\" class=\"NATR\"></td><td nowrap=\"\" align=\"center\" class=\"NATR\"></td><td nowrap=\"\" align=\"center\" class=\"NATR\"></td><td nowrap=\"\" align=\"center\" class=\"NATR\"></td><td nowrap=\"\" align=\"center\" class=\"NATR\">事業</td><td nowrap=\"\" align=\"center\" class=\"SATTXT\">事業</td></tr><tr><td nowrap=\"\" class=\"NATR\" height=\"40\">1300-1700</td><td nowrap=\"\" align=\"center\" class=\"HOLTXT\"></td><td nowrap=\"\" align=\"center\" class=\"NATR\"></td><td nowrap=\"\" align=\"center\" class=\"NATR\"></td><td nowrap=\"\" align=\"center\" class=\"NATR\"></td><td nowrap=\"\" align=\"center\" class=\"NATR\"></td><td nowrap=\"\" align=\"center\" class=\"NATR\">事業</td><td nowrap=\"\" align=\"center\" class=\"SATTXT\">事業</td></tr><tr><td nowrap=\"\" class=\"NATR\" height=\"40\">1800-2200</td><td nowrap=\"\" align=\"center\" class=\"HOLTXT\"></td><td nowrap=\"\" align=\"center\" class=\"NATR\"></td><td nowrap=\"\" align=\"center\" class=\"NATR\"></td><td nowrap=\"\" align=\"center\" class=\"NATR\"></td><td nowrap=\"\" align=\"center\" class=\"NATR\"></td><td nowrap=\"\" align=\"center\" class=\"NATR\">事業</td><td nowrap=\"\" align=\"center\" class=\"SATTXT\">事業</td></tr></tbody></table><br><br><table class=\"STTL\" width=\"99%\" border=\"1\" cellspacing=\"0\" cellpadding=\"0\"><tbody><tr class=\"WTBL\"><td nowrap=\"\" width=\"20%\" rowspan=\"2\" class=\"GATR\">施設</td><td nowrap=\"\" width=\"5%\" rowspan=\"2\" class=\"GATR\">定員</td><td nowrap=\"\" width=\"5%\" rowspan=\"2\" class=\"GATR\">時間</td><td nowrap=\"\" width=\"10%\" align=\"center\" class=\"HOLTXT\">日</td><td nowrap=\"\" width=\"10%\" align=\"center\" class=\"NATR\">月</td><td nowrap=\"\" width=\"10%\" align=\"center\" class=\"NATR\">火</td><td nowrap=\"\" width=\"10%\" align=\"center\" class=\"NATR\">水</td><td nowrap=\"\" width=\"10%\" align=\"center\" class=\"NATR\">木</td><td nowrap=\"\" width=\"10%\" align=\"center\" class=\"NATR\">金</td><td nowrap=\"\" width=\"10%\" align=\"center\" class=\"SATTXT\">土</td></tr><tr class=\"GTBL\"><td nowrap=\"\" width=\"8%\" align=\"center\" class=\"HOLTXT\">15</td><td nowrap=\"\" width=\"8%\" align=\"center\" class=\"LKATR\">16</td><td nowrap=\"\" width=\"8%\" align=\"center\" class=\"LKATR\">17</td><td nowrap=\"\" width=\"8%\" align=\"center\" class=\"LKATR\">18</td><td nowrap=\"\" width=\"8%\" align=\"center\" class=\"LKATR\">19</td><td nowrap=\"\" width=\"8%\" align=\"center\" class=\"LKATR\">20</td><td nowrap=\"\" width=\"8%\" align=\"center\" class=\"SATTXT\">21</td></tr><tr class=\"WTBL\"><td class=\"NATR\" rowspan=\"3\">大田区民ﾎｰﾙ･ｱﾌﾟﾘｺ<br>大ホール</td><td width=\"5%\" class=\"NATR\" align=\"center\" rowspan=\"3\">1477人</td><td nowrap=\"\" class=\"NATR\" height=\"40\">0900-1200</td><td nowrap=\"\" align=\"center\" class=\"HOLTXT\">予約済 </td><td nowrap=\"\" align=\"center\" class=\"NATR\"></td><td nowrap=\"\" align=\"center\" class=\"NATR\"></td><td nowrap=\"\" align=\"center\" class=\"NATR\"></td><td nowrap=\"\" align=\"center\" class=\"NATR\"></td><td nowrap=\"\" align=\"center\" class=\"NATR\"></td><td nowrap=\"\" align=\"center\" class=\"SATTXT\"></td></tr><tr><td nowrap=\"\" class=\"NATR\" height=\"40\">1300-1700</td><td nowrap=\"\" align=\"center\" class=\"HOLTXT\">予約済 </td><td nowrap=\"\" align=\"center\" class=\"NATR\"></td><td nowrap=\"\" align=\"center\" class=\"NATR\"></td><td nowrap=\"\" align=\"center\" class=\"NATR\"></td><td nowrap=\"\" align=\"center\" class=\"NATR\"></td><td nowrap=\"\" align=\"center\" class=\"NATR\"></td><td nowrap=\"\" align=\"center\" class=\"SATTXT\"></td></tr><tr><td nowrap=\"\" class=\"NATR\" height=\"40\">1800-2200</td><td nowrap=\"\" align=\"center\" class=\"HOLTXT\">予約済 </td><td nowrap=\"\" align=\"center\" class=\"NATR\"></td><td nowrap=\"\" align=\"center\" class=\"NATR\"></td><td nowrap=\"\" align=\"center\" class=\"NATR\"></td><td nowrap=\"\" align=\"center\" class=\"NATR\"></td><td nowrap=\"\" align=\"center\" class=\"NATR\"></td><td nowrap=\"\" align=\"center\" class=\"SATTXT\"></td></tr></tbody></table><br><br><table class=\"STTL\" width=\"99%\" border=\"1\" cellspacing=\"0\" cellpadding=\"0\"><tbody><tr class=\"WTBL\"><td nowrap=\"\" width=\"20%\" rowspan=\"2\" class=\"GATR\">施設</td><td nowrap=\"\" width=\"5%\" rowspan=\"2\" class=\"GATR\">定員</td><td nowrap=\"\" width=\"5%\" rowspan=\"2\" class=\"GATR\">時間</td><td nowrap=\"\" width=\"10%\" align=\"center\" class=\"HOLTXT\">日</td><td nowrap=\"\" width=\"10%\" align=\"center\" class=\"NATR\">月</td><td nowrap=\"\" width=\"10%\" align=\"center\" class=\"NATR\">火</td><td nowrap=\"\" width=\"10%\" align=\"center\" class=\"NATR\">水</td><td nowrap=\"\" width=\"10%\" align=\"center\" class=\"NATR\">木</td><td nowrap=\"\" width=\"10%\" align=\"center\" class=\"NATR\">金</td><td nowrap=\"\" width=\"10%\" align=\"center\" class=\"SATTXT\">土</td></tr><tr class=\"GTBL\"><td nowrap=\"\" width=\"8%\" align=\"center\" class=\"HOLTXT\">22</td><td nowrap=\"\" width=\"8%\" align=\"center\" class=\"LKATR\">23</td><td nowrap=\"\" width=\"8%\" align=\"center\" class=\"LKATR\">24</td><td nowrap=\"\" width=\"8%\" align=\"center\" class=\"LKATR\">25</td><td nowrap=\"\" width=\"8%\" align=\"center\" class=\"LKATR\">26</td><td nowrap=\"\" width=\"8%\" align=\"center\" class=\"LKATR\">27</td><td nowrap=\"\" width=\"8%\" align=\"center\" class=\"SATTXT\">28</td></tr><tr class=\"WTBL\"><td class=\"NATR\" rowspan=\"3\">大田区民ﾎｰﾙ･ｱﾌﾟﾘｺ<br>大ホール</td><td width=\"5%\" class=\"NATR\" align=\"center\" rowspan=\"3\">1477人</td><td nowrap=\"\" class=\"NATR\" height=\"40\">0900-1200</td><td nowrap=\"\" align=\"center\" class=\"HOLTXT\"></td><td nowrap=\"\" align=\"center\" class=\"NATR\"></td><td nowrap=\"\" align=\"center\" class=\"NATR\"></td><td nowrap=\"\" align=\"center\" class=\"NATR\"></td><td nowrap=\"\" align=\"center\" class=\"NATR\">施設整備</td><td nowrap=\"\" align=\"center\" class=\"NATR\"></td><td nowrap=\"\" align=\"center\" class=\"SATTXT\"></td></tr><tr><td nowrap=\"\" class=\"NATR\" height=\"40\">1300-1700</td><td nowrap=\"\" align=\"center\" class=\"HOLTXT\"></td><td nowrap=\"\" align=\"center\" class=\"NATR\"></td><td nowrap=\"\" align=\"center\" class=\"NATR\"></td><td nowrap=\"\" align=\"center\" class=\"NATR\"></td><td nowrap=\"\" align=\"center\" class=\"NATR\">施設整備</td><td nowrap=\"\" align=\"center\" class=\"NATR\"></td><td nowrap=\"\" align=\"center\" class=\"SATTXT\"></td></tr><tr><td nowrap=\"\" class=\"NATR\" height=\"40\">1800-2200</td><td nowrap=\"\" align=\"center\" class=\"HOLTXT\"></td><td nowrap=\"\" align=\"center\" class=\"NATR\"></td><td nowrap=\"\" align=\"center\" class=\"NATR\"></td><td nowrap=\"\" align=\"center\" class=\"NATR\"></td><td nowrap=\"\" align=\"center\" class=\"NATR\">施設整備</td><td nowrap=\"\" align=\"center\" class=\"NATR\"></td><td nowrap=\"\" align=\"center\" class=\"SATTXT\"></td></tr></tbody></table><br><br><table class=\"STTL\" width=\"99%\" border=\"1\" cellspacing=\"0\" cellpadding=\"0\"><tbody><tr class=\"WTBL\"><td nowrap=\"\" width=\"20%\" rowspan=\"2\" class=\"GATR\">施設</td><td nowrap=\"\" width=\"5%\" rowspan=\"2\" class=\"GATR\">定員</td><td nowrap=\"\" width=\"5%\" rowspan=\"2\" class=\"GATR\">時間</td><td nowrap=\"\" width=\"10%\" align=\"center\" class=\"HOLTXT\">日</td><td nowrap=\"\" width=\"10%\" align=\"center\" class=\"NATR\">月</td><td nowrap=\"\" width=\"10%\" align=\"center\" class=\"NATR\">火</td><td nowrap=\"\" width=\"10%\" align=\"center\" class=\"HOLTXT\">水</td><td nowrap=\"\" width=\"10%\" align=\"center\" class=\"NATR\">木</td><td nowrap=\"\" width=\"10%\" align=\"center\" class=\"NATR\">金</td><td nowrap=\"\" width=\"10%\" align=\"center\" class=\"SATTXT\">土</td></tr><tr class=\"GTBL\"><td nowrap=\"\" width=\"8%\" align=\"center\" class=\"HOLTXT\">29</td><td nowrap=\"\" width=\"8%\" align=\"center\" class=\"LKATR\">30</td><td nowrap=\"\" width=\"8%\" align=\"center\" class=\"LKATR\">31</td><td nowrap=\"\" width=\"8%\" align=\"center\" class=\"HOLTXT\">1</td><td nowrap=\"\" width=\"8%\" align=\"center\" class=\"LKATR\">2</td><td nowrap=\"\" width=\"8%\" align=\"center\" class=\"LKATR\">3</td><td nowrap=\"\" width=\"8%\" align=\"center\" class=\"SATTXT\">4</td></tr><tr class=\"WTBL\"><td class=\"NATR\" rowspan=\"3\">大田区民ﾎｰﾙ･ｱﾌﾟﾘｺ<br>大ホール</td><td width=\"5%\" class=\"NATR\" align=\"center\" rowspan=\"3\">1477人</td><td nowrap=\"\" class=\"NATR\" height=\"40\">0900-1200</td><td nowrap=\"\" align=\"center\" class=\"HOLTXT\">休館日</td><td nowrap=\"\" align=\"center\" class=\"NATR\">休館日</td><td nowrap=\"\" align=\"center\" class=\"NATR\">休館日</td><td nowrap=\"\" align=\"center\" class=\"HOLTXT\">休館日</td><td nowrap=\"\" align=\"center\" class=\"NATR\">休館日</td><td nowrap=\"\" align=\"center\" class=\"NATR\">休館日</td><td nowrap=\"\" align=\"center\" class=\"SATTXT\"></td></tr><tr><td nowrap=\"\" class=\"NATR\" height=\"40\">1300-1700</td><td nowrap=\"\" align=\"center\" class=\"HOLTXT\">休館日</td><td nowrap=\"\" align=\"center\" class=\"NATR\">休館日</td><td nowrap=\"\" align=\"center\" class=\"NATR\">休館日</td><td nowrap=\"\" align=\"center\" class=\"HOLTXT\">休館日</td><td nowrap=\"\" align=\"center\" class=\"NATR\">休館日</td><td nowrap=\"\" align=\"center\" class=\"NATR\">休館日</td><td nowrap=\"\" align=\"center\" class=\"SATTXT\"></td></tr><tr><td nowrap=\"\" class=\"NATR\" height=\"40\">1800-2200</td><td nowrap=\"\" align=\"center\" class=\"HOLTXT\">休館日</td><td nowrap=\"\" align=\"center\" class=\"NATR\">休館日</td><td nowrap=\"\" align=\"center\" class=\"NATR\">休館日</td><td nowrap=\"\" align=\"center\" class=\"HOLTXT\">休館日</td><td nowrap=\"\" align=\"center\" class=\"NATR\">休館日</td><td nowrap=\"\" align=\"center\" class=\"NATR\">休館日</td><td nowrap=\"\" align=\"center\" class=\"SATTXT\"></td></tr></tbody></table><br><br>\n"
     ]
    }
   ],
   "source": [
    "from selenium import webdriver\n",
    "from selenium.webdriver.chrome.service import Service\n",
    "from selenium.webdriver.common.by import By\n",
    "from selenium.webdriver.support.ui import Select\n",
    "#from selenium.webdriver.support.ui import WebDriverWait\n",
    "#from selenium.webdriver.support import expected_conditions as EC\n",
    "import time\n",
    "\n",
    "debugFlg = 1 #Debug中は1にしろ！(サーバ負荷軽減)\n",
    "\n",
    "time.sleep(5)\n",
    "\n",
    "driver = webdriver.Chrome()\n",
    "#wait = WebDriverWait(driver=driver, timeout=10)\n",
    " \n",
    "driver.get(\"https://www.yoyaku.city.ota.tokyo.jp/ota-user/mainservlet/UserPublic\")\n",
    "\n",
    "for i in [\"doSubmit(FRM_RSGU999S);\",\"fcSubmit(FRM_RSGU001,'INIT','rsv.bean.RSGU301SBusinessInit','RSGU301S');\",\"fcSubmit_RSGU301S_Reload(FRM_RSGU301S,'RELOAD_CLICK','rsv.bean.RSGU301SBusinessClick','RSGU301S','01','会館・集会室');\",\"fcSubmit_RSGU301S(FRM_RSGU301S,'LINK_CLICK','rsv.bean.RSGU301SBusinessSearchInit','RSGU301S','270','null');\"]:\n",
    "    driver.execute_script(i)\n",
    "    driver.implicitly_wait(10)\n",
    "\n",
    "bldgCategory = driver.find_element(By.NAME, \"sltShisetsuSyousaiBunruiCD\")\n",
    "select = Select(bldgCategory)\n",
    "select.select_by_value(\"19\")\n",
    "\n",
    "driver.execute_script(\"fcSubmit(FRM_RSGU302,'SHISETSUSEARCH_BTN','rsv.bean.RSGU301SBusinessShisetsuBunruiSearchBtn','RSGU302');\")\n",
    "driver.implicitly_wait(10)\n",
    "\n",
    "#探したい年月日\n",
    "targetMonth=\"2024年12月\"\n",
    "\n",
    "cnt = 0\n",
    "while (driver.execute_script(\"return document.getElementsByTagName('b')[1].textContent;\")!=targetMonth) and (cnt<(1+23*debugFlg)):\n",
    "    cnt+=1\n",
    "    driver.execute_script(\"fcSubmit(FRM_RSGU302,'SEARCH_NEXT1M','rsv.bean.RSGU302BusinessMoveWeek','RSGU302');\")\n",
    "    driver.implicitly_wait(10)\n",
    "\n",
    "driver.execute_script(\"fcSubmit(FRM_RSGU302,'AKIJOUKYOU_WEEK','rsv.bean.RSGU302BusinessAkiJoukyouWeek','RSGU302');\")\n",
    "driver.implicitly_wait(10)\n",
    "\n",
    "for i in range(int(driver.execute_script(\"return new Date().getDate();\"))-1):\n",
    "    driver.execute_script(\"fcSubmit(FRM_RSGU302,'SEARCH_PREV1D','rsv.bean.RSGU302BusinessMoveWeek','RSGU302');\")\n",
    "    driver.implicitly_wait(10)\n",
    "\n",
    "#結果のHTML\n",
    "resultHtml = \"\"\n",
    "for i in range(1+4*debugFlg):\n",
    "    resultHtml += '<table class=\"STTL\" width=\"99%\" border=\"1\" cellspacing=\"0\" cellpadding=\"0\">'+driver.find_elements(By.CLASS_NAME, \"STTL\")[2].get_attribute(\"innerHTML\").strip()+\"</table><br><br>\"\n",
    "    driver.execute_script(\"fcSubmit(FRM_RSGU302,'SEARCH_NEXT1W','rsv.bean.RSGU302BusinessMoveWeek','RSGU302');\")\n",
    "    driver.implicitly_wait(10)\n",
    "\n",
    "#DOMで結果書き出し\n",
    "print(resultHtml.replace('\\t', '').replace('\\n', '').replace('\\r', ''))\n",
    "driver.execute_script(\"document.getElementsByTagName('body')[0].innerHTML='\"+(resultHtml.replace('\\t', '').replace('\\n', '').replace('\\r', ''))+\"';\")\n",
    "\n",
    "#time.sleep(10)\n",
    "\n",
    "# WebDriverを終了\n",
    "#driver.quit()"
   ]
  },
  {
   "cell_type": "code",
   "execution_count": 38,
   "metadata": {},
   "outputs": [
    {
     "name": "stdout",
     "output_type": "stream",
     "text": [
      "t\n"
     ]
    }
   ],
   "source": [
    "print(\"t\".strip())"
   ]
  }
 ],
 "metadata": {
  "kernelspec": {
   "display_name": "Python 3",
   "language": "python",
   "name": "python3"
  },
  "language_info": {
   "codemirror_mode": {
    "name": "ipython",
    "version": 3
   },
   "file_extension": ".py",
   "mimetype": "text/x-python",
   "name": "python",
   "nbconvert_exporter": "python",
   "pygments_lexer": "ipython3",
   "version": "3.11.4"
  },
  "orig_nbformat": 4
 },
 "nbformat": 4,
 "nbformat_minor": 2
}
